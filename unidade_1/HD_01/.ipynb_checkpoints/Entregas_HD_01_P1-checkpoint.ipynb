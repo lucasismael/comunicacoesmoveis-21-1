{
 "cells": [
  {
   "cell_type": "markdown",
   "id": "6c2c4ed7",
   "metadata": {},
   "source": [
    "# Hands-on 01: Uso de modelos de propagação para análises sistêmicas\n",
    "\n",
    "## Entregas Parte 01: Avaliação de cobertura celular\n",
    "\n",
    "### Entrega 01: Definição de raio celular para uma Outage planejada\n",
    "\n",
    "Escreva um código para determinar o raio celular aproximado para cada frequência da portadora do exemplo acima, considerando uma Outage de potência máxima de 10%.\n",
    "\n",
    "### Entrega 02: Ajuste do modelo de propagação\n",
    "\n",
    "Faça a avaliação acima considerando o modelo COST Hata model (COST 231), que é mais fiel para frequências acima de 900 MHz.\n",
    "\n",
    "![COST231](https://wikimedia.org/api/rest_v1/media/math/render/svg/8fe4868bd0c567a77db1fc54acb880ff83b2bf81)"
   ]
  },
  {
   "cell_type": "markdown",
   "id": "a2f6482d",
   "metadata": {},
   "source": [
    "* O código a seguir foi construído com base nas etapas percorridas ao longo do Hands-on 01;\n",
    "* As duas entregas estão condensadas em um único script."
   ]
  },
  {
   "cell_type": "code",
   "execution_count": 1,
   "id": "7c8067f2",
   "metadata": {},
   "outputs": [],
   "source": [
    "import warnings\n",
    "warnings.filterwarnings(\"ignore\")\n",
    "import numpy as np\n",
    "import cmath\n",
    "import matplotlib.pylab as plt\n",
    "from itertools import cycle\n",
    "import scipy.stats as st\n",
    "import os\n",
    "import sys\n",
    "import argparse\n",
    "import yaml\n",
    "import matplotlib\n",
    "from random import randint   \n",
    "import itertools \n",
    "\n",
    "def findradius(dFc, dR, propModel):\n",
    "    dPasso = np.ceil(dR/100);\n",
    "    dRMin = dPasso;\n",
    "    dIntersiteDistance = 2*np.sqrt(3/4)*dR;\n",
    "    dDimX = 5*dR;\n",
    "    dDimY = 6*np.sqrt(3/4)*dR;\n",
    "    dPtdBm = 57;\n",
    "    dPtLinear = 10**(dPtdBm/10)*1e-3;\n",
    "    dSensitivity = -104;\n",
    "    dHMob = 5;\n",
    "    dHBs = 30;\n",
    "    dAhm = 3.2*(np.log10(11.75*dHMob))**(2) - 4.97; # Fator de correção\n",
    "    \n",
    "    vtBs = [0];\n",
    "    dOffset = np.pi/6;\n",
    "    for iBs in range(2,8):\n",
    "        vtBs = np.append(vtBs, dR*np.sqrt(3)*np.exp(complex(0,(iBs-2)*np.pi/3 + dOffset)));\n",
    "    vtBs = vtBs + complex(dDimX/2,dDimY/2);\n",
    "    \n",
    "    dDimY = np.ceil(dDimY + np.mod(dDimY, dPasso));\n",
    "    dDimX = np.ceil(dDimX + np.mod(dDimX, dPasso));\n",
    "    \n",
    "    [mtPosx, mtPosy] = np.meshgrid(np.arange(0,dDimX+1,dPasso), np.arange(0,dDimY+1,dPasso));\n",
    "    \n",
    "    #for dFc in vtFc:\n",
    "    mtPosEachBS = np.empty([mtPosx.shape[0],mtPosx.shape[1],len(vtBs)], dtype=complex);\n",
    "    mtPowerEachBSdBm = np.empty([mtPosx.shape[0],mtPosx.shape[1],len(vtBs)]);\n",
    "    mtPowerFinaldBm = -np.inf*np.ones([mtPosy.shape[0],mtPosy.shape[1]]);\n",
    "\n",
    "    for x in range(mtPosx.shape[0]):\n",
    "        for y in range (mtPosx.shape[1]):\n",
    "            mtPosEachBS[x,y,:] = complex(mtPosx[x,y],mtPosy[x,y]);\n",
    "        \n",
    "    for iBsD in range(len(vtBs)):\n",
    "        mtPosEachBS[:,:,iBsD] = mtPosEachBS[:,:,iBsD]-vtBs[iBsD];\n",
    "        mtDistEachBS = np.abs(mtPosEachBS[:,:,iBsD]);\n",
    "        mtDistEachBS[mtDistEachBS < dRMin] = dRMin;\n",
    "        if (propModel == 'okumurahata'):\n",
    "            mtPldB = 69.55 + 26.16*np.log10(dFc) + (44.9 - 6.55*np.log10(dHBs))*np.log10(mtDistEachBS/1e3) - 13.82*np.log10(dHBs) - dAhm;\n",
    "        elif (propModel == 'cost231'):\n",
    "            mtPldB = 46.3 + 33.9*np.log10(dFc) - 13.82*np.log10(dHBs) - dAhm + (44.9 - 6.55*np.log10(dHBs))*np.log10(mtDistEachBS/1e3) + 3;\n",
    "        else:\n",
    "            sys.exit('Modelo de propagação não definido!');\n",
    "        mtPowerEachBSdBm[:,:,iBsD] = dPtdBm - mtPldB;\n",
    "        mtPowerFinaldBm = np.maximum(mtPowerFinaldBm, mtPowerEachBSdBm[:,:,iBsD]);\n",
    "        \n",
    "    belowsensitivity = mtPowerFinaldBm[mtPowerFinaldBm < dSensitivity];\n",
    "    allelements = mtPowerFinaldBm.flatten();\n",
    "    dOutRate = 100*len(belowsensitivity)/len(allelements);\n",
    "    return dOutRate;"
   ]
  },
  {
   "cell_type": "markdown",
   "id": "e04f472a",
   "metadata": {},
   "source": [
    "* Utilizando a função criada anteriormente, que retorna a porcentagem de _Outage_ calculada, é realizada uma busca iterativa para o raio mínimo que resulta em uma taxa de _Outage_ menor que **10%**."
   ]
  },
  {
   "cell_type": "code",
   "execution_count": 2,
   "id": "a52cd13d",
   "metadata": {
    "scrolled": false
   },
   "outputs": [
    {
     "name": "stdout",
     "output_type": "stream",
     "text": [
      "Modelo de Propagação: okumurahata\n",
      "Frequência: 800 MHz\n",
      "Raio mínimo: 10.6 km\n",
      "Outage: 9.888859517050353 %\n",
      "-------------------------------------------\n",
      "Modelo de Propagação: cost231\n",
      "Frequência: 800 MHz\n",
      "Raio mínimo: 9.1 km\n",
      "Outage: 9.665888951463675 %\n",
      "-------------------------------------------\n",
      "Modelo de Propagação: okumurahata\n",
      "Frequência: 900 MHz\n",
      "Raio mínimo: 9.7 km\n",
      "Outage: 9.872768857678118 %\n",
      "-------------------------------------------\n",
      "Modelo de Propagação: cost231\n",
      "Frequência: 900 MHz\n",
      "Raio mínimo: 8.1 km\n",
      "Outage: 9.599227648350134 %\n",
      "-------------------------------------------\n",
      "Modelo de Propagação: okumurahata\n",
      "Frequência: 1800 MHz\n",
      "Raio mínimo: 5.7 km\n",
      "Outage: 9.506514801491068 %\n",
      "-------------------------------------------\n",
      "Modelo de Propagação: cost231\n",
      "Frequência: 1800 MHz\n",
      "Raio mínimo: 4.1 km\n",
      "Outage: 9.524137904613038 %\n",
      "-------------------------------------------\n",
      "Modelo de Propagação: okumurahata\n",
      "Frequência: 1900 MHz\n",
      "Raio mínimo: 5.5 km\n",
      "Outage: 9.692706717084066 %\n",
      "-------------------------------------------\n",
      "Modelo de Propagação: cost231\n",
      "Frequência: 1900 MHz\n",
      "Raio mínimo: 3.9 km\n",
      "Outage: 9.647499626466836 %\n",
      "-------------------------------------------\n",
      "Modelo de Propagação: okumurahata\n",
      "Frequência: 2100 MHz\n",
      "Raio mínimo: 5.1 km\n",
      "Outage: 9.70420004520709 %\n",
      "-------------------------------------------\n",
      "Modelo de Propagação: cost231\n",
      "Frequência: 2100 MHz\n",
      "Raio mínimo: 3.5 km\n",
      "Outage: 9.309595779649912 %\n",
      "-------------------------------------------\n"
     ]
    }
   ],
   "source": [
    "vtFc = [800, 900, 1800, 1900, 2100];\n",
    "vtProp = ['okumurahata', 'cost231'];\n",
    "for dFc in vtFc:\n",
    "    for propModel in vtProp:\n",
    "        dR = 11e3;\n",
    "        outage = 10;\n",
    "        dOutRate = np.inf;\n",
    "        while outage <= dOutRate: \n",
    "            dOutRate = findradius(dFc, dR, propModel);\n",
    "            dR = dR - 1e2;\n",
    "        print(\"Modelo de Propagação: \" + propModel);\n",
    "        print(\"Frequência: \" + str(dFc) + \" MHz\");\n",
    "        print(\"Raio mínimo: \" + str(dR/1000) + \" km\");\n",
    "        print(\"Outage: \" + str(dOutRate) + \" %\");\n",
    "        print(\"-------------------------------------------\");"
   ]
  },
  {
   "cell_type": "markdown",
   "id": "336f3fd8",
   "metadata": {},
   "source": [
    "______"
   ]
  }
 ],
 "metadata": {
  "kernelspec": {
   "display_name": "Python 3",
   "language": "python",
   "name": "python3"
  },
  "language_info": {
   "codemirror_mode": {
    "name": "ipython",
    "version": 3
   },
   "file_extension": ".py",
   "mimetype": "text/x-python",
   "name": "python",
   "nbconvert_exporter": "python",
   "pygments_lexer": "ipython3",
   "version": "3.8.5"
  }
 },
 "nbformat": 4,
 "nbformat_minor": 5
}
